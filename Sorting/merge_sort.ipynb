{
 "cells": [
  {
   "cell_type": "code",
   "execution_count": 23,
   "metadata": {},
   "outputs": [
    {
     "data": {
      "text/plain": [
       "[1, 2, 3, 4, 5]"
      ]
     },
     "execution_count": 23,
     "metadata": {},
     "output_type": "execute_result"
    }
   ],
   "source": [
    "# merge_sort\n",
    "\n",
    "def merge(arr, lo, mid, hi):\n",
    "    left_arr = arr[lo:mid+1]\n",
    "    right_arr = arr[mid+1:hi+1]\n",
    "\n",
    "    i = j = 0\n",
    "    k = lo\n",
    "\n",
    "    while i < len(left_arr) and j < len(right_arr):\n",
    "        if left_arr[i] < right_arr[j]:\n",
    "            arr[k] = left_arr[i]\n",
    "            i+=1\n",
    "        else:\n",
    "            arr[k] = right_arr[j]\n",
    "            j+=1\n",
    "        k+=1\n",
    "    \n",
    "    while i < len(left_arr):\n",
    "        arr[k] = left_arr[i]\n",
    "        i+=1\n",
    "        k+=1\n",
    "    \n",
    "    while j < len(right_arr):\n",
    "        arr[k] = right_arr[j]\n",
    "        j+=1\n",
    "        k+=1\n",
    "\n",
    "\n",
    "\n",
    "def merge_sort(arr, lo, hi):\n",
    "    if lo < hi:\n",
    "        mid = (lo+hi)//2\n",
    "        \n",
    "        merge_sort(arr, mid+1, hi)\n",
    "        merge_sort(arr, lo, mid)\n",
    "        merge(arr, lo, mid, hi)\n",
    "\n",
    "\n",
    "arr = [5,4,3,2,1]\n",
    "lo = 0\n",
    "hi = len(arr)-1\n",
    "merge_sort(arr, lo, hi)\n",
    "arr"
   ]
  },
  {
   "cell_type": "code",
   "execution_count": 15,
   "metadata": {},
   "outputs": [],
   "source": [
    "arr1= [1,2,3,4,5,6,7,8,9]\n",
    "lo = 0\n",
    "hi = len(arr1)-1\n",
    "\n",
    "mid = (lo + hi)//2\n",
    "\n",
    "la = arr1[lo:mid+1]\n",
    "ra = arr1[mid+1: hi+1]\n"
   ]
  },
  {
   "cell_type": "code",
   "execution_count": 16,
   "metadata": {},
   "outputs": [
    {
     "data": {
      "text/plain": [
       "[1, 2, 3, 4, 5]"
      ]
     },
     "execution_count": 16,
     "metadata": {},
     "output_type": "execute_result"
    }
   ],
   "source": [
    "la"
   ]
  },
  {
   "cell_type": "code",
   "execution_count": 17,
   "metadata": {},
   "outputs": [
    {
     "data": {
      "text/plain": [
       "[6, 7, 8, 9]"
      ]
     },
     "execution_count": 17,
     "metadata": {},
     "output_type": "execute_result"
    }
   ],
   "source": [
    "ra"
   ]
  },
  {
   "cell_type": "code",
   "execution_count": 22,
   "metadata": {},
   "outputs": [
    {
     "name": "stdout",
     "output_type": "stream",
     "text": [
      "[1, 2, 3, 4, 5]\n"
     ]
    }
   ],
   "source": [
    "def merge(arr, lo, mid, hi):\n",
    "    left_arr = arr[lo:mid+1]\n",
    "    right_arr = arr[mid+1:hi+1]\n",
    "\n",
    "    i = j = 0\n",
    "    k = lo\n",
    "\n",
    "    while i < len(left_arr) and j < len(right_arr):\n",
    "        if left_arr[i] < right_arr[j]:\n",
    "            arr[k] = left_arr[i]\n",
    "            i += 1\n",
    "        else:\n",
    "            arr[k] = right_arr[j]\n",
    "            j += 1\n",
    "        k += 1\n",
    "    \n",
    "    while i < len(left_arr):\n",
    "        arr[k] = left_arr[i]\n",
    "        i += 1\n",
    "        k += 1\n",
    "    \n",
    "    while j < len(right_arr):\n",
    "        arr[k] = right_arr[j]\n",
    "        j += 1\n",
    "        k += 1\n",
    "\n",
    "def merge_sort(arr, lo, hi):\n",
    "    if lo < hi:\n",
    "        mid = (lo + hi) // 2\n",
    "        merge_sort(arr, lo, mid)     # Sort the left half\n",
    "        merge_sort(arr, mid + 1, hi) # Sort the right half\n",
    "        merge(arr, lo, mid, hi)      # Merge the two halves\n",
    "\n",
    "# Example usage\n",
    "arr = [5, 4, 3, 2, 1]\n",
    "lo = 0\n",
    "hi = len(arr) - 1\n",
    "merge_sort(arr, lo, hi)\n",
    "print(arr)\n"
   ]
  },
  {
   "cell_type": "code",
   "execution_count": null,
   "metadata": {},
   "outputs": [],
   "source": []
  }
 ],
 "metadata": {
  "kernelspec": {
   "display_name": "Python 3",
   "language": "python",
   "name": "python3"
  },
  "language_info": {
   "codemirror_mode": {
    "name": "ipython",
    "version": 3
   },
   "file_extension": ".py",
   "mimetype": "text/x-python",
   "name": "python",
   "nbconvert_exporter": "python",
   "pygments_lexer": "ipython3",
   "version": "3.10.10"
  }
 },
 "nbformat": 4,
 "nbformat_minor": 2
}
