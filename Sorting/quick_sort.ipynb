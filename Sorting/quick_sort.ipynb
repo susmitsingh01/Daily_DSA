{
 "cells": [
  {
   "cell_type": "code",
   "execution_count": 3,
   "metadata": {},
   "outputs": [
    {
     "data": {
      "text/plain": [
       "[1, 2, 3, 4, 5]"
      ]
     },
     "execution_count": 3,
     "metadata": {},
     "output_type": "execute_result"
    }
   ],
   "source": [
    "# quick_sort\n",
    "\n",
    "def find_pivot(arr, start, end):\n",
    "    pivot = arr[end]\n",
    "    i = start-1\n",
    "    for j in range(start, end):\n",
    "        if pivot > arr[j]:\n",
    "            i+=1\n",
    "            arr[i], arr[j] = arr[j], arr[i]\n",
    "\n",
    "    arr[end], arr[i+1] = arr[i+1], arr[end]\n",
    "\n",
    "    return i+1\n",
    "\n",
    "\n",
    "def quick_sort(arr, start, end):\n",
    "    if start <= end:\n",
    "        pi = find_pivot(arr, start, end)\n",
    "\n",
    "        quick_sort(arr, pi+1, end)\n",
    "        quick_sort(arr, start, pi-1)\n",
    "\n",
    "arr = [5,4,3,2,1]\n",
    "start = 0\n",
    "end = len(arr)-1\n",
    "quick_sort(arr, start, end)\n",
    "arr"
   ]
  },
  {
   "cell_type": "code",
   "execution_count": null,
   "metadata": {},
   "outputs": [],
   "source": [
    "\n",
    "\n"
   ]
  }
 ],
 "metadata": {
  "kernelspec": {
   "display_name": "Python 3",
   "language": "python",
   "name": "python3"
  },
  "language_info": {
   "codemirror_mode": {
    "name": "ipython",
    "version": 3
   },
   "file_extension": ".py",
   "mimetype": "text/x-python",
   "name": "python",
   "nbconvert_exporter": "python",
   "pygments_lexer": "ipython3",
   "version": "3.10.10"
  }
 },
 "nbformat": 4,
 "nbformat_minor": 2
}
