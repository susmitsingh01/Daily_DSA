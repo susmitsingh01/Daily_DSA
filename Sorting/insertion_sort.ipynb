{
 "cells": [
  {
   "cell_type": "code",
   "execution_count": 5,
   "metadata": {},
   "outputs": [
    {
     "data": {
      "text/plain": [
       "[1, 2, 3, 4, 5]"
      ]
     },
     "execution_count": 5,
     "metadata": {},
     "output_type": "execute_result"
    }
   ],
   "source": [
    "# insertion sort\n",
    "\n",
    "def insertion_sort(arr):\n",
    "    n = len(arr)\n",
    "\n",
    "    for i in range(1, n):\n",
    "        key = arr[i]\n",
    "        j = i-1\n",
    "        while j >= 0 and arr[j] > key:\n",
    "            arr[j+1] = arr[j]\n",
    "            j-=1\n",
    "\n",
    "        arr[j+1] = key\n",
    "\n",
    "arr = [5,4,3,2,1]\n",
    "insertion_sort(arr)\n",
    "arr\n"
   ]
  }
 ],
 "metadata": {
  "kernelspec": {
   "display_name": "Python 3",
   "language": "python",
   "name": "python3"
  },
  "language_info": {
   "codemirror_mode": {
    "name": "ipython",
    "version": 3
   },
   "file_extension": ".py",
   "mimetype": "text/x-python",
   "name": "python",
   "nbconvert_exporter": "python",
   "pygments_lexer": "ipython3",
   "version": "3.10.10"
  }
 },
 "nbformat": 4,
 "nbformat_minor": 2
}
